{
  "nbformat": 4,
  "nbformat_minor": 0,
  "metadata": {
    "colab": {
      "provenance": []
    },
    "kernelspec": {
      "name": "python3",
      "display_name": "Python 3"
    },
    "language_info": {
      "name": "python"
    }
  },
  "cells": [
    {
      "cell_type": "code",
      "source": [
        "import numpy as np\n",
        "from scipy.integrate import odeint, ode\n",
        "import matplotlib.pyplot as plt\n",
        "from dataclasses import dataclass\n",
        "from typing import Tuple"
      ],
      "metadata": {
        "id": "agQs5ZNNngR6"
      },
      "execution_count": 175,
      "outputs": []
    },
    {
      "cell_type": "code",
      "source": [
        "filename = 'HIV-TB Coinfection'"
      ],
      "metadata": {
        "id": "Kl0LstqCX1HJ"
      },
      "execution_count": 176,
      "outputs": []
    },
    {
      "cell_type": "code",
      "source": [
        "def parse_compartment(line):\n",
        "  return line.replace('[', '').replace(']', '').replace('\\n', '').split(', ')"
      ],
      "metadata": {
        "id": "ls-1XpnHNDEG"
      },
      "execution_count": 177,
      "outputs": []
    },
    {
      "cell_type": "code",
      "source": [
        "compartments = [parse_compartment(line) for line in open(f'{filename}.compartments.txt').readlines()]\n",
        "_flows = open(f'{filename}.equations.txt').readlines()\n",
        "number_of_lines_per_flow_in_file = 6\n",
        "number_of_flows = int(len(_flows) / number_of_lines_per_flow_in_file)\n",
        "flows = [_flows[i * number_of_lines_per_flow_in_file:(i + 1) * number_of_lines_per_flow_in_file] for i in range(number_of_flows)]"
      ],
      "metadata": {
        "id": "1LojJVf_gFOD"
      },
      "execution_count": 178,
      "outputs": []
    },
    {
      "cell_type": "code",
      "source": [
        "modelsize = len(compartments)\n",
        "modelsize, compartments[0]"
      ],
      "metadata": {
        "colab": {
          "base_uri": "https://localhost:8080/"
        },
        "id": "_vPlmW0rZKe_",
        "outputId": "61480fcf-d9b9-45e5-811b-2ab1297b48bb"
      },
      "execution_count": 179,
      "outputs": [
        {
          "output_type": "execute_result",
          "data": {
            "text/plain": [
              "(256,\n",
              " ['Age',\n",
              "  'Alive',\n",
              "  'Child',\n",
              "  'HIV',\n",
              "  'HIV-TB Coinfection',\n",
              "  'M',\n",
              "  'Mortality',\n",
              "  'S-HIV',\n",
              "  'S-TB',\n",
              "  'Sex',\n",
              "  'Tuberculosis'])"
            ]
          },
          "metadata": {},
          "execution_count": 179
        }
      ]
    },
    {
      "cell_type": "code",
      "source": [
        "eqsize = len(flows)\n",
        "eqsize"
      ],
      "metadata": {
        "colab": {
          "base_uri": "https://localhost:8080/"
        },
        "id": "bR1WZIu4ZQEb",
        "outputId": "3aa57589-73f7-49c4-b126-0ce7e55a6ce1"
      },
      "execution_count": 180,
      "outputs": [
        {
          "output_type": "execute_result",
          "data": {
            "text/plain": [
              "576"
            ]
          },
          "metadata": {},
          "execution_count": 180
        }
      ]
    },
    {
      "cell_type": "code",
      "source": [
        "flows[0]"
      ],
      "metadata": {
        "colab": {
          "base_uri": "https://localhost:8080/"
        },
        "id": "XV4QQLbN0lhH",
        "outputId": "e1a7954f-b6c4-4483-c8d2-e4df1eb948ca"
      },
      "execution_count": 181,
      "outputs": [
        {
          "output_type": "execute_result",
          "data": {
            "text/plain": [
              "['(* (get Infection-HIV 0) $0)\\n',\n",
              " '[[Age, Alive, Child, E-HIV, HIV, HIV-TB Coinfection, M, Mortality, S-TB, Sex, Tuberculosis]]\\n',\n",
              " '[Age, Alive, Child, E-HIV, HIV, HIV-TB Coinfection, M, Mortality, S-TB, Sex, Tuberculosis]\\n',\n",
              " '[Age, Alive, Child, HIV, HIV-TB Coinfection, I-HIV, M, Mortality, S-TB, Sex, Tuberculosis]\\n',\n",
              " '[]\\n',\n",
              " '\\n']"
            ]
          },
          "metadata": {},
          "execution_count": 181
        }
      ]
    },
    {
      "cell_type": "code",
      "source": [
        "def next(s, i):\n",
        "  start = i\n",
        "  while s[i] == ' ':\n",
        "    i += 1\n",
        "  if s[i] == '(':\n",
        "    while True:\n",
        "      i += 1\n",
        "      i, _ = next(s, i)\n",
        "      while s[i] == ' ':\n",
        "        i += 1\n",
        "      if s[i] == ')':\n",
        "        i += 1\n",
        "        return i, s[start:i]\n",
        "  elif s[i] == '[':\n",
        "    print('HERE')\n",
        "    while s[i] != ']':\n",
        "      i += 1\n",
        "    i += 1\n",
        "    print(s[start:i])\n",
        "    return i, s[start:i]\n",
        "  else:\n",
        "    while i < len(s) and s[i] != ' ' and s[i] != ')':\n",
        "      i += 1\n",
        "    return i, s[start:i]"
      ],
      "metadata": {
        "id": "GXSef7ibO0lT"
      },
      "execution_count": 207,
      "outputs": []
    },
    {
      "cell_type": "code",
      "source": [
        "# from a flow, create a lambda that takes in the state and returns the value of the derivative\n",
        "def compile_equation(flow, equation):\n",
        "  # return compile_equation_optional_lazy(flow)[1]\n",
        "  eq = equation.replace('\\n', '')\n",
        "  i, operator = next(eq, 1)\n",
        "  operands = []\n",
        "  while i < len(eq) - 1:\n",
        "    i, op = next(eq, i)\n",
        "    operands += [op]\n",
        "\n",
        "  if operator == 'get':\n",
        "    coef = 1 # todo read coef from config based on operands\n",
        "    return lambda state: coef\n",
        "  if operator == '*':\n",
        "    def product(terms):\n",
        "      p = 1\n",
        "      for t in terms:\n",
        "        p *= t\n",
        "      return p\n",
        "    compiled_operands = [compile_equation(flow, operand) for operand in operands]\n",
        "    return lambda state: product([operand(state) for operand in compiled_operands])\n",
        "  if operator == 'sum':\n",
        "    s = set(parse_compartment(operands[0]))\n",
        "    indices = [i for i, c in enumerate(compartments) if set(c).issuperset(s)]\n",
        "    return lambda state: sum([state[i] for i in indices])\n",
        "  if operator[0] == '(':\n",
        "    return compile_equation(flow, operator)\n",
        "  if operator[0] == '$':\n",
        "    n = int(operator[1:])\n",
        "    i = compartments.index(flow.equation_compartments[n])\n",
        "    return lambda state: state[i]\n",
        "  print(operator)\n",
        "  raise 1"
      ],
      "metadata": {
        "id": "bKf-0cKtIhhj"
      },
      "execution_count": 230,
      "outputs": []
    },
    {
      "cell_type": "code",
      "source": [
        "def parse_compartments(line):\n",
        "  return [parse_compartment(c) for c in line.replace('[[', '[').replace(']]', ']').replace('\\n', '').split('], ')]"
      ],
      "metadata": {
        "id": "kOe3i5oSNh3d"
      },
      "execution_count": 231,
      "outputs": []
    },
    {
      "cell_type": "code",
      "source": [
        "class Flow:\n",
        "  def __init__(self, lines):\n",
        "    self.equation = lines[0]#[:-1]\n",
        "    self.equation_compartments = parse_compartments(lines[1])#[:-1]\n",
        "    self.source = parse_compartment(lines[2])#[:-1]\n",
        "    self.sink = parse_compartment(lines[3])#[:-1]\n",
        "    self.required_operators = lines[4]#[:-1]\n",
        "    self.compiled_equation = compile_equation(self, self.equation)"
      ],
      "metadata": {
        "id": "2A_t9FU75Xl9"
      },
      "execution_count": 232,
      "outputs": []
    },
    {
      "cell_type": "code",
      "source": [
        "flows = [Flow(lines) for lines in flows]"
      ],
      "metadata": {
        "id": "zypVNSN45wDq"
      },
      "execution_count": null,
      "outputs": []
    },
    {
      "cell_type": "code",
      "source": [
        "flows[0].equation"
      ],
      "metadata": {
        "colab": {
          "base_uri": "https://localhost:8080/",
          "height": 35
        },
        "id": "32LjLBBp57pF",
        "outputId": "eabc28b2-ace0-4383-9f50-8ca434031d1a"
      },
      "execution_count": 233,
      "outputs": [
        {
          "output_type": "execute_result",
          "data": {
            "text/plain": [
              "'(* (get Infection-HIV 0) $0)\\n'"
            ],
            "application/vnd.google.colaboratory.intrinsic+json": {
              "type": "string"
            }
          },
          "metadata": {},
          "execution_count": 233
        }
      ]
    },
    {
      "cell_type": "code",
      "source": [
        "flowsbycompartment = [[[], []] for compartment in compartments] # each compartment has an in and an out list\n",
        "for flow in flows:\n",
        "  source = compartments.index(flow.source)\n",
        "  sink = compartments.index(flow.sink)\n",
        "  # 1 is output, where the source takes\n",
        "  flowsbycompartment[source][1] += [flow]\n",
        "\n",
        "  # 0 is input to compartment, where the sink goes\n",
        "  flowsbycompartment[sink][0] += [flow]"
      ],
      "metadata": {
        "id": "CZlPzBxt7JJn"
      },
      "execution_count": 234,
      "outputs": []
    },
    {
      "cell_type": "code",
      "source": [
        "flowsbycompartment[117]"
      ],
      "metadata": {
        "colab": {
          "base_uri": "https://localhost:8080/"
        },
        "id": "qyR8EZVZGpO_",
        "outputId": "7447c552-37e2-4ca2-9316-28c080d388f5"
      },
      "execution_count": 235,
      "outputs": [
        {
          "output_type": "execute_result",
          "data": {
            "text/plain": [
              "[[<__main__.Flow at 0x7e87aafd6f80>,\n",
              "  <__main__.Flow at 0x7e87ab068160>,\n",
              "  <__main__.Flow at 0x7e87aaf2e890>],\n",
              " [<__main__.Flow at 0x7e87ab14f880>, <__main__.Flow at 0x7e87aaf15c30>]]"
            ]
          },
          "metadata": {},
          "execution_count": 235
        }
      ]
    },
    {
      "cell_type": "code",
      "source": [
        "def evalDelta(flows, state):\n",
        "  res = 0\n",
        "  for flow in flows:\n",
        "    res += flow.compiled_equation(state)\n",
        "  return res"
      ],
      "metadata": {
        "id": "iX8KOE6QXklb"
      },
      "execution_count": 236,
      "outputs": []
    },
    {
      "cell_type": "code",
      "source": [
        "def derivativeForCompartmentIndex(i):\n",
        "  return lambda state: evalDelta(flowsbycompartment[i][0], state) - evalDelta(flowsbycompartment[i][1], state)"
      ],
      "metadata": {
        "id": "QI3nxaD-jXOh"
      },
      "execution_count": 237,
      "outputs": []
    },
    {
      "cell_type": "code",
      "source": [
        "derivatives = [derivativeForCompartmentIndex(i) for i in range(len(compartments))]"
      ],
      "metadata": {
        "id": "Ww5UOZZTlgUX"
      },
      "execution_count": 238,
      "outputs": []
    },
    {
      "cell_type": "code",
      "source": [
        "# for i, compartment in enumerate(compartments):\n",
        "#   n = initial_conditions[compartment]\n",
        "#   if len(compartment) < 32:\n",
        "#     compartment += \"\\t\"\n",
        "#   print(f\"{compartment}\\tN={n}\\tSusceptibility={s}\\tContagiousness={c}\")"
      ],
      "metadata": {
        "id": "4SbSwufy-wvj"
      },
      "execution_count": 239,
      "outputs": []
    },
    {
      "cell_type": "code",
      "source": [
        "initial_conditions = {str(c) : 1 for c in compartments}"
      ],
      "metadata": {
        "id": "MBFO9yJkH3NL"
      },
      "execution_count": 240,
      "outputs": []
    },
    {
      "cell_type": "code",
      "source": [
        "def model_derivative(state, t):\n",
        "  state = [x if x > 0 else 0 for x in state]\n",
        "  d = [derivatives[i](state) for i in range(len(state))]\n",
        "  return d\n",
        "\n",
        "min, max = 0, 100\n",
        "steps = 1000\n",
        "t_span = np.linspace(min, max, num=steps)\n",
        "\n",
        "solution = odeint(model_derivative, [initial_conditions[str(c)] for c in compartments], t_span)"
      ],
      "metadata": {
        "id": "5D2lFtTMgVMN"
      },
      "execution_count": 241,
      "outputs": []
    },
    {
      "cell_type": "code",
      "source": [
        "len(solution), len(solution[0])"
      ],
      "metadata": {
        "colab": {
          "base_uri": "https://localhost:8080/"
        },
        "id": "xA9WlZNqEiys",
        "outputId": "28cc5516-6d0a-4548-999d-8b0c5df38bb7"
      },
      "execution_count": 262,
      "outputs": [
        {
          "output_type": "execute_result",
          "data": {
            "text/plain": [
              "(1000, 256)"
            ]
          },
          "metadata": {},
          "execution_count": 262
        }
      ]
    },
    {
      "cell_type": "code",
      "source": [
        "# This was to test to avoid having negative values in X\n",
        "# imagine a vaccination batch kept on too long and you end up with negative unvaccinated people\n",
        "# it works by controlling X during the ode solving process with a loop so you can add you condition such as `len([y for y in r.y if y < 0]) == 0`\n",
        "\n",
        "\n",
        "\n",
        "\n",
        "# def model_derivative(t, state):\n",
        "#   state = [x if x > 0 else 0 for x in state]\n",
        "#   d = [derivatives[i](state) for i in range(len(state))]\n",
        "#   return d\n",
        "\n",
        "# r = ode(model_derivative)\n",
        "# r.set_initial_value([initial_conditions[str(c['id']).replace(\"'\", \"\")] for c in compartments], 0)\n",
        "# dt = 0.01\n",
        "# while r.successful() and len([y for y in r.y if y < 0]) == 0:\n",
        "#   for e in list(zip([c['id'] for c in compartments], r.integrate(r.t + dt))):\n",
        "#     print(e)\n",
        "#   break"
      ],
      "metadata": {
        "id": "PjsnfJ1LI_YL"
      },
      "execution_count": 243,
      "outputs": []
    },
    {
      "cell_type": "code",
      "source": [
        "shape = (4, 4, 4, 2, 2)"
      ],
      "metadata": {
        "id": "u0S2HW0FVsqE"
      },
      "execution_count": 248,
      "outputs": []
    },
    {
      "cell_type": "code",
      "source": [
        "metadata = [['hS', 'hE', 'hI', 'hR'], ['tS', 'tE', 'tI', 'tR'], ['1', '2', '3', '4'], ['M', 'F'], ['Alive', 'Dead']]"
      ],
      "metadata": {
        "id": "KQPP9Vn8V6mv"
      },
      "execution_count": 252,
      "outputs": []
    },
    {
      "cell_type": "code",
      "source": [
        "def plot_by_labels(list_of_list_of_labels):\n",
        "  for labels in list_of_list_of_labels:\n",
        "    curves = []\n",
        "    sub = set(labels)\n",
        "    for i, c in enumerate(compartments):\n",
        "      if set(c).issuperset(sub):\n",
        "        curves += [np.array(solution[:, i])]\n",
        "    res = np.sum(np.array(curves), axis = 0)\n",
        "    l, = plt.plot(res)\n",
        "    l.set_label(labels)\n",
        "  plt.legend()\n",
        "  plt.show()"
      ],
      "metadata": {
        "id": "Pd1JVRbsSbyD"
      },
      "execution_count": 298,
      "outputs": []
    },
    {
      "cell_type": "code",
      "source": [
        "plot_by_labels([['Alive'], ['Deceased']])"
      ],
      "metadata": {
        "colab": {
          "base_uri": "https://localhost:8080/",
          "height": 430
        },
        "id": "ypPBXSVWWuBE",
        "outputId": "a35f4bf6-3a4d-4ede-f66a-417a88cdbbdb"
      },
      "execution_count": 299,
      "outputs": [
        {
          "output_type": "display_data",
          "data": {
            "text/plain": [
              "<Figure size 640x480 with 1 Axes>"
            ],
            "image/png": "[encoded data removed]"
          },
          "metadata": {}
        }
      ]
    },
    {
      "cell_type": "code",
      "source": [],
      "metadata": {
        "id": "cslNqezNXtVy"
      },
      "execution_count": null,
      "outputs": []
    }
  ]
}