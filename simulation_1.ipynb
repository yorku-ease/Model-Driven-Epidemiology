{
  "nbformat": 4,
  "nbformat_minor": 0,
  "metadata": {
    "colab": {
      "provenance": []
    },
    "kernelspec": {
      "name": "python3",
      "display_name": "Python 3"
    },
    "language_info": {
      "name": "python"
    }
  },
  "cells": [
    {
      "cell_type": "code",
      "source": [
        "import numpy as np\n",
        "from scipy.integrate import odeint, ode\n",
        "import matplotlib.pyplot as plt\n",
        "from dataclasses import dataclass\n",
        "from typing import Tuple"
      ],
      "metadata": {
        "id": "agQs5ZNNngR6"
      },
      "execution_count": 1,
      "outputs": []
    },
    {
      "cell_type": "code",
      "source": [
        "class Flow:\n",
        "    def __init__(self, lines, required_parameters):\n",
        "        self.equation = lines[0].replace('\\n', '').replace(\"$0\", lines[1][:-1]).replace(\"$1\", lines[2][:-1])#[:-1]\n",
        "        self.source = parse(read(lines[1])[0])#[:-1]\n",
        "        self.sink = parse(read(lines[2])[0])#[:-1]\n",
        "        self.compiled_equation = compile(parse(read(self.equation)[0]), required_parameters)\n",
        "\n",
        "    def __repr__(self):\n",
        "        return f'Flow: equation{self.equation}'\n",
        "\n",
        "class Function:\n",
        "    def __init__(self, operator, operands) -> None:\n",
        "        self.operator = operator\n",
        "        self.operands = operands\n",
        "\n",
        "    def __repr__(self):\n",
        "        if isinstance(self.operator, WordOrSymbol) and self.operator.value == 'parameter':\n",
        "            return f'parameter: {self.operands})'\n",
        "        else:\n",
        "            return f'Function: ({self.operator} {\" \".join([str(o) for o in self.operands])})'\n",
        "\n",
        "class Compartment:\n",
        "    def __init__(self, labels) -> None:\n",
        "        self.labels = labels\n",
        "\n",
        "    def __repr__(self):\n",
        "        return 'Compartment' + str(self.labels)\n",
        "\n",
        "class WordOrSymbol:\n",
        "    def __init__(self, value: str) -> None:\n",
        "        self.value = value\n",
        "\n",
        "    def __repr__(self):\n",
        "        return self.value\n",
        "\n",
        "class ReadResult:\n",
        "    def __init__(self, string_value: str, object_type: type) -> None:\n",
        "        self.string_value = string_value\n",
        "        self.object_type = object_type\n",
        "\n",
        "def read(string: str, i: int = 0):\n",
        "    string = string.replace('\\n', ' ').replace('\\t', ' ')\n",
        "    beg = string[i]\n",
        "    while string[i] == ' ':\n",
        "        i += 1\n",
        "    if beg == '(':\n",
        "        return read_fn(string, i)\n",
        "    elif beg == '[':\n",
        "        return read_compartment(string, i)\n",
        "    else:\n",
        "        return read_word_or_symbol(string, i)\n",
        "\n",
        "def read_fn(string: str, i: int):\n",
        "    start = i\n",
        "    depth = 0\n",
        "    while True:\n",
        "        if string[i] == '(':\n",
        "            depth += 1\n",
        "        elif string[i] == ')':\n",
        "            depth -= 1\n",
        "        i += 1\n",
        "        if depth == 0:\n",
        "            break\n",
        "    return ReadResult(string[start:i], Function), i + 1\n",
        "\n",
        "def read_compartment(string: str, i: int):\n",
        "    start = i\n",
        "    while string[i] != ']':\n",
        "        i += 1\n",
        "    # include the closing bracket\n",
        "    i += 1\n",
        "    return ReadResult(string[start:i], Compartment), i + 1\n",
        "\n",
        "def read_word_or_symbol(string: str, i: int):\n",
        "    start = i\n",
        "    while i < len(string) and string[i] != ' ' and string[i] != '[' and string[i] != ')' and string[i] != '(':\n",
        "        i += 1\n",
        "    return ReadResult(string[start:i], WordOrSymbol), i + 1\n",
        "\n",
        "def parse(read_result: ReadResult):\n",
        "    parser = {\n",
        "        Function: parse_fn,\n",
        "        Compartment: parse_compartment,\n",
        "        WordOrSymbol: parse_word_or_symbol\n",
        "    }\n",
        "    return parser[read_result.object_type](read_result.string_value)\n",
        "\n",
        "def parse_fn(string: str):\n",
        "    string = string[1:-1] # take `...` from `(...)`\n",
        "    terms = []\n",
        "    i = 0\n",
        "    while i < len(string):\n",
        "        if string[i] == ' ':\n",
        "            i += 1\n",
        "            continue\n",
        "        r, i = read(string, i)\n",
        "        terms += [parse(r)]\n",
        "    return Function(terms[0], terms[1:])\n",
        "\n",
        "def parse_compartment(string: str):\n",
        "    if string[-1] != ']':\n",
        "       raise 1\n",
        "    string = string[1:-1] # take `...` from `[...]`\n",
        "    return Compartment([s.strip() for s in string.split(',')])\n",
        "\n",
        "def parse_word_or_symbol(string: str):\n",
        "    return WordOrSymbol(string)\n",
        "\n",
        "def compile(parse_result, required_parameters):\n",
        "    compiler = {\n",
        "        Function: compile_equation,\n",
        "        Compartment: compile_compartment,\n",
        "        WordOrSymbol: compile_word_or_symbol\n",
        "    }\n",
        "    return compiler[type(parse_result)](parse_result, required_parameters)\n",
        "\n",
        "def compile_compartment(compartment: Compartment, required_parameters):\n",
        "    s = set(compartment.labels)\n",
        "    indices = [i for i, c in enumerate(compartments) if set(c).issuperset(s)]\n",
        "    if len(indices) == 1:\n",
        "        return lambda state: state[indices[0]]\n",
        "    else:\n",
        "        return lambda state: [state[i] for i in indices]\n",
        "\n",
        "def compile_word_or_symbol(word_or_symbol: WordOrSymbol, required_parameters):\n",
        "    return lambda state: word_or_symbol\n",
        "\n",
        "def compile_equation(equation: Function, required_parameters):\n",
        "    if isinstance(equation.operator, WordOrSymbol):\n",
        "        fn = equation.operator.value\n",
        "        # parameters are a special function and could have their own\n",
        "        # element in the grammar (such as the use of brackets) to denote them\n",
        "        # but for now they are denoted using `(parameter ...)` like other functions\n",
        "        if fn == 'parameter':\n",
        "            prepare_parameter(equation.operands, required_parameters)\n",
        "            parameters = get_parameters(equation.operands, required_parameters)\n",
        "            return lambda state: [parameter.evaluate() for parameter in parameters]\n",
        "        else:\n",
        "            compiled_operands = [compile(operand, required_parameters) for operand in equation.operands]\n",
        "            if fn == '*':\n",
        "                return lambda state: product([operand(state) for operand in compiled_operands])\n",
        "            elif fn == 'sumproduct':\n",
        "                return lambda state: sumproduct([operand(state) for operand in compiled_operands])\n",
        "            else:\n",
        "                raise Exception(f\"Unknown function `{fn}`\")\n",
        "    else:\n",
        "        raise Exception(f\"Expected operator of type {WordOrSymbol}, received {type(equation.operator)}\")\n",
        "\n",
        "def product(terms):\n",
        "  p = 1\n",
        "  for t in terms:\n",
        "    if isinstance(t, list):\n",
        "       p *= sum(t)\n",
        "    else:\n",
        "       p *= t\n",
        "  return p\n",
        "\n",
        "def sumproduct(values):\n",
        "    expected_len = len(values[0])\n",
        "    for v in values:\n",
        "      if len(v) != expected_len:\n",
        "        raise Exception('could not broadcast matrices or vectors')\n",
        "    return sum([product([value[i] for value in values]) for i in range(len(values[0]))])\n",
        "\n",
        "def parse_compartments(line):\n",
        "  return [parse_compartment(c) for c in line.replace('[[', '[').replace(']]', ']').replace('\\n', '').split('], ')]\n",
        "\n",
        "class Parameter:\n",
        "    def __init__(self, name, value) -> None:\n",
        "        self.name = name\n",
        "        self.value = value\n",
        "\n",
        "    def evaluate(self):\n",
        "        if self.value is None:\n",
        "            raise Exception(f\"None valued parameter '{self.name}'\")\n",
        "        else:\n",
        "            return self.value\n",
        "\n",
        "def prepare_parameter(operands, required_parameters):\n",
        "    is_partial_spec = False\n",
        "    for i, operand in enumerate(operands):\n",
        "        if isinstance(operand, Compartment):\n",
        "            is_full_compartment_specification = operand in compartments\n",
        "            if not is_partial_spec:\n",
        "                is_partial_spec = True\n",
        "            if not is_full_compartment_specification:\n",
        "                s = set(operand.labels)\n",
        "                subsets_of_partial_specialization = [c for c in compartments if set(c).issuperset(s)]\n",
        "                before, after = operands[:i], operands [i+1:]\n",
        "                for c in subsets_of_partial_specialization:\n",
        "                    prepare_parameter(before + [c] + after, required_parameters)\n",
        "    if not is_partial_spec:\n",
        "        key = str(parse_compartment(str(operands)).labels)\n",
        "        if key not in required_parameters:\n",
        "            required_parameters[key] = Parameter(operands, None)\n",
        "\n",
        "def get_parameters(operands, required_parameters):\n",
        "    is_partial_spec = False\n",
        "    for i, operand in enumerate(operands):\n",
        "        if isinstance(operand, Compartment):\n",
        "            is_full_compartment_specification = operand in compartments\n",
        "            if not is_partial_spec:\n",
        "                is_partial_spec = True\n",
        "            if not is_full_compartment_specification:\n",
        "                s = set(operand.labels)\n",
        "                subsets_of_partial_specialization = [c for c in compartments if set(c).issuperset(s)]\n",
        "                before, after = operands[:i], operands [i+1:]\n",
        "                res = []\n",
        "                for c in subsets_of_partial_specialization:\n",
        "                    params = get_parameters(before + [c] + after, required_parameters)\n",
        "                    if isinstance(params, list):\n",
        "                        res.extend(params)\n",
        "                    else:\n",
        "                        res.extend([params])\n",
        "                return res\n",
        "    if not is_partial_spec:\n",
        "        return [required_parameters[str(parse_compartment(str(operands)).labels)]]\n",
        "\n",
        "def evalDelta(flows, state):\n",
        "    res = 0\n",
        "    for flow in flows:\n",
        "        res += flow.compiled_equation(state)\n",
        "    return res\n",
        "\n",
        "def derivativeForCompartmentIndex(i):\n",
        "    return lambda state: evalDelta(flowsbycompartment[i][0], state) - evalDelta(flowsbycompartment[i][1], state)\n",
        "\n",
        "def test_required_parameters(required_parameters):\n",
        "    return [name for name, parameter in required_parameters.items() if parameter.value is None]\n",
        "\n",
        "def model_derivative(state, t):\n",
        "    state = [x if x > 0 else 0 for x in state]\n",
        "    d = [derivatives[i](state) for i in range(len(state))]\n",
        "    return d"
      ],
      "metadata": {
        "id": "cslNqezNXtVy"
      },
      "execution_count": 2,
      "outputs": []
    },
    {
      "cell_type": "code",
      "source": [
        "filename = 'HIV-TB Coinfection'\n",
        "\n",
        "compartments = [parse_compartment(line[:-1]).labels for line in open(f'{filename}.compartments.txt').readlines()]\n",
        "number_of_lines_per_flow_in_file = 4\n",
        "flows = open(f'{filename}.equations.txt').readlines()\n",
        "flows = [flows[i * number_of_lines_per_flow_in_file:(i + 1) * number_of_lines_per_flow_in_file] for i in range(int(len(flows) / number_of_lines_per_flow_in_file))]\n",
        "provided_parameters = {str(parse_compartment(k.strip()).labels): Parameter(k, float(v)) for k, v in [s.split('=') for s in open(f'{filename}.parameters.txt').readlines()]}\n",
        "flows = [Flow(lines, provided_parameters) for lines in flows]\n",
        "\n",
        "# each compartment has an in and an out list\n",
        "flowsbycompartment = [[[], []] for _ in compartments]\n",
        "for flow in flows:\n",
        "  source = compartments.index(flow.source.labels)\n",
        "  sink = compartments.index(flow.sink.labels)\n",
        "  _in,_out = 0,1\n",
        "  flowsbycompartment[source][_out] += [flow]\n",
        "  flowsbycompartment[sink  ][_in ] += [flow]\n",
        "\n",
        "print(f'model size = {len(compartments)}')\n",
        "print(f'model equations = {len(flows)}')\n",
        "\n",
        "\n",
        "testkey = str(parse_compartment(\"[contact-mixing, Exposure-HIV, ['Age', 'Alive', 'Child', 'HIV', 'HIV-TB Coinfection', 'I-HIV', 'M', 'Mortality', 'S-TB', 'Sex', 'Tuberculosis']]\").labels)\n",
        "missing_parameters = test_required_parameters(provided_parameters)\n",
        "\n",
        "if len(missing_parameters) > 0:\n",
        "    print(\"Missing Parameters:\")\n",
        "    for parameter in missing_parameters:\n",
        "        print(parameter)\n",
        "    print(\"Exiting...\")\n",
        "else:\n",
        "    derivatives = [derivativeForCompartmentIndex(i) for i in range(len(compartments))]\n",
        "\n",
        "    initial_conditions = {str(c) : 1 for c in compartments}\n",
        "\n",
        "    print(model_derivative([initial_conditions[str(c)] for c in compartments], 0))"
      ],
      "metadata": {
        "id": "CUZu4fg6biOT",
        "colab": {
          "base_uri": "https://localhost:8080/"
        },
        "outputId": "1ce7abf9-dc6c-4392-e9f1-8a3b3336e6b7"
      },
      "execution_count": 3,
      "outputs": [
        {
          "output_type": "stream",
          "name": "stdout",
          "text": [
            "model size = 256\n",
            "model equations = 576\n",
            "[-129.0, -127.0, -2.0, 0.0, -65.0, -63.0, -64.0, -62.0, -129.0, -127.0, -2.0, 0.0, -65.0, -63.0, -64.0, -62.0, -129.0, -127.0, -2.0, 0.0, -65.0, -63.0, -64.0, -62.0, -129.0, -127.0, -2.0, 0.0, -65.0, -63.0, -64.0, -62.0, -129.0, -127.0, -2.0, 0.0, -65.0, -63.0, -64.0, -62.0, -129.0, -127.0, -2.0, 0.0, -65.0, -63.0, -64.0, -62.0, -129.0, -127.0, -2.0, 0.0, -65.0, -63.0, -64.0, -62.0, -129.0, -127.0, -2.0, 0.0, -65.0, -63.0, -64.0, -62.0, -2.0, 0.0, 125.0, 127.0, 62.0, 64.0, 63.0, 65.0, -2.0, 0.0, 125.0, 127.0, 62.0, 64.0, 63.0, 65.0, -2.0, 0.0, 125.0, 127.0, 62.0, 64.0, 63.0, 65.0, -2.0, 0.0, 125.0, 127.0, 62.0, 64.0, 63.0, 65.0, -2.0, 0.0, 125.0, 127.0, 62.0, 64.0, 63.0, 65.0, -2.0, 0.0, 125.0, 127.0, 62.0, 64.0, 63.0, 65.0, -2.0, 0.0, 125.0, 127.0, 62.0, 64.0, 63.0, 65.0, -2.0, 0.0, 125.0, 127.0, 62.0, 64.0, 63.0, 65.0, -64.0, -62.0, 63.0, 65.0, 0.0, 2.0, 1.0, 3.0, -64.0, -62.0, 63.0, 65.0, 0.0, 2.0, 1.0, 3.0, -64.0, -62.0, 63.0, 65.0, 0.0, 2.0, 1.0, 3.0, -64.0, -62.0, 63.0, 65.0, 0.0, 2.0, 1.0, 3.0, -64.0, -62.0, 63.0, 65.0, 0.0, 2.0, 1.0, 3.0, -64.0, -62.0, 63.0, 65.0, 0.0, 2.0, 1.0, 3.0, -64.0, -62.0, 63.0, 65.0, 0.0, 2.0, 1.0, 3.0, -64.0, -62.0, 63.0, 65.0, 0.0, 2.0, 1.0, 3.0, -65.0, -63.0, 62.0, 64.0, -1.0, 1.0, 0.0, 2.0, -65.0, -63.0, 62.0, 64.0, -1.0, 1.0, 0.0, 2.0, -65.0, -63.0, 62.0, 64.0, -1.0, 1.0, 0.0, 2.0, -65.0, -63.0, 62.0, 64.0, -1.0, 1.0, 0.0, 2.0, -65.0, -63.0, 62.0, 64.0, -1.0, 1.0, 0.0, 2.0, -65.0, -63.0, 62.0, 64.0, -1.0, 1.0, 0.0, 2.0, -65.0, -63.0, 62.0, 64.0, -1.0, 1.0, 0.0, 2.0, -65.0, -63.0, 62.0, 64.0, -1.0, 1.0, 0.0, 2.0]\n"
          ]
        }
      ]
    },
    {
      "cell_type": "code",
      "source": [
        "min, max = 0, 100\n",
        "steps = 1000\n",
        "t_span = np.linspace(min, max, num=steps)\n",
        "\n",
        "solution = odeint(model_derivative, [initial_conditions[str(c)] for c in compartments], t_span)"
      ],
      "metadata": {
        "id": "5D2lFtTMgVMN"
      },
      "execution_count": 4,
      "outputs": []
    },
    {
      "cell_type": "code",
      "source": [
        "len(solution), len(solution[0])"
      ],
      "metadata": {
        "id": "xA9WlZNqEiys",
        "colab": {
          "base_uri": "https://localhost:8080/"
        },
        "outputId": "069f8f4a-a71e-4b73-b611-0ea2f268f937"
      },
      "execution_count": 5,
      "outputs": [
        {
          "output_type": "execute_result",
          "data": {
            "text/plain": [
              "(1000, 256)"
            ]
          },
          "metadata": {},
          "execution_count": 5
        }
      ]
    },
    {
      "cell_type": "code",
      "source": [
        "# This was to test to avoid having negative values in X\n",
        "# imagine a vaccination batch kept on too long and you end up with negative unvaccinated people\n",
        "# it works by controlling X during the ode solving process with a loop so you can add you condition such as `len([y for y in r.y if y < 0]) == 0`\n",
        "\n",
        "\n",
        "\n",
        "\n",
        "# def model_derivative(t, state):\n",
        "#   state = [x if x > 0 else 0 for x in state]\n",
        "#   d = [derivatives[i](state) for i in range(len(state))]\n",
        "#   return d\n",
        "\n",
        "# r = ode(model_derivative)\n",
        "# r.set_initial_value([initial_conditions[str(c['id']).replace(\"'\", \"\")] for c in compartments], 0)\n",
        "# dt = 0.01\n",
        "# while r.successful() and len([y for y in r.y if y < 0]) == 0:\n",
        "#   for e in list(zip([c['id'] for c in compartments], r.integrate(r.t + dt))):\n",
        "#     print(e)\n",
        "#   break"
      ],
      "metadata": {
        "id": "PjsnfJ1LI_YL"
      },
      "execution_count": null,
      "outputs": []
    },
    {
      "cell_type": "code",
      "source": [
        "shape = (4, 4, 4, 2, 2)"
      ],
      "metadata": {
        "id": "u0S2HW0FVsqE"
      },
      "execution_count": 6,
      "outputs": []
    },
    {
      "cell_type": "code",
      "source": [
        "metadata = [['hS', 'hE', 'hI', 'hR'], ['tS', 'tE', 'tI', 'tR'], ['1', '2', '3', '4'], ['M', 'F'], ['Alive', 'Dead']]"
      ],
      "metadata": {
        "id": "KQPP9Vn8V6mv"
      },
      "execution_count": 7,
      "outputs": []
    },
    {
      "cell_type": "code",
      "source": [
        "def plot_by_labels(list_of_list_of_labels):\n",
        "  for labels in list_of_list_of_labels:\n",
        "    curves = []\n",
        "    sub = set(labels)\n",
        "    for i, c in enumerate(compartments):\n",
        "      if set(c).issuperset(sub):\n",
        "        curves += [np.array(solution[:, i])]\n",
        "    res = np.sum(np.array(curves), axis = 0)\n",
        "    l, = plt.plot(res)\n",
        "    l.set_label(labels)\n",
        "  plt.legend()\n",
        "  plt.show()"
      ],
      "metadata": {
        "id": "Pd1JVRbsSbyD"
      },
      "execution_count": 8,
      "outputs": []
    },
    {
      "cell_type": "code",
      "source": [
        "plot_by_labels([['Alive'], ['Deceased']])"
      ],
      "metadata": {
        "id": "ypPBXSVWWuBE",
        "colab": {
          "base_uri": "https://localhost:8080/",
          "height": 430
        },
        "outputId": "7afcab3d-c396-4a6d-af9d-7e9e4935f47f"
      },
      "execution_count": 9,
      "outputs": [
        {
          "output_type": "display_data",
          "data": {
            "text/plain": [
              "<Figure size 640x480 with 1 Axes>"
            ],
            "image/png": "[encoded data removed]"
          },
          "metadata": {}
        }
      ]
    },
    {
      "cell_type": "code",
      "source": [],
      "metadata": {
        "id": "B9LjGYRDalkw"
      },
      "execution_count": null,
      "outputs": []
    }
  ]
}