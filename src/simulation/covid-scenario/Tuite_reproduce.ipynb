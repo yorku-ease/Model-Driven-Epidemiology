{
  "nbformat": 4,
  "nbformat_minor": 0,
  "metadata": {
    "colab": {
      "provenance": []
    },
    "kernelspec": {
      "name": "python3",
      "display_name": "Python 3"
    },
    "language_info": {
      "name": "python"
    }
  },
  "cells": [
    {
      "cell_type": "code",
      "source": [
        "import numpy as np\n",
        "from scipy.integrate import odeint\n",
        "import matplotlib.pyplot as plt"
      ],
      "metadata": {
        "id": "agQs5ZNNngR6"
      },
      "execution_count": null,
      "outputs": []
    },
    {
      "cell_type": "code",
      "source": [
        "class Flow:\n",
        "    def __init__(self, lines, parameters, compartments):\n",
        "        self.equation = lines[0].replace('\\n', '').replace(\"$0\", lines[1][:-1]).replace(\"$1\", lines[2][:-1])\n",
        "        self.source = parse(read(lines[1])[0])\n",
        "        self.sink = parse(read(lines[2])[0])\n",
        "        self.name = parse(read(lines[3])[0])\n",
        "        self.compiled_equation = compile(parse(read(self.equation)[0]), parameters, compartments)\n",
        "\n",
        "    def __repr__(self):\n",
        "        return f'Flow: equation{self.equation}'\n",
        "\n",
        "class Function:\n",
        "    def __init__(self, operator, operands) -> None:\n",
        "        self.operator = operator\n",
        "        self.operands = operands\n",
        "\n",
        "    def __repr__(self):\n",
        "        if isinstance(self.operator, WordOrSymbol) and self.operator.value == 'parameter':\n",
        "            return f'parameter: {self.operands})'\n",
        "        else:\n",
        "            return f'Function: ({self.operator} {\" \".join([str(o) for o in self.operands])})'\n",
        "\n",
        "class Compartment:\n",
        "    def __init__(self, labels) -> None:\n",
        "        self.labels = labels\n",
        "\n",
        "    def __repr__(self):\n",
        "        return 'Compartment' + self.as_key()\n",
        "\n",
        "    def as_key(self):\n",
        "        return '[' + ','.join(self.labels) + ']'\n",
        "\n",
        "class WordOrSymbol:\n",
        "    def __init__(self, value: str) -> None:\n",
        "        self.value = value\n",
        "\n",
        "    def __repr__(self):\n",
        "        return self.value\n",
        "\n",
        "class ReadResult:\n",
        "    def __init__(self, string_value: str, object_type: type) -> None:\n",
        "        self.string_value = string_value\n",
        "        self.object_type = object_type\n",
        "\n",
        "def read(string: str, i: int = 0):\n",
        "    string = string.replace('\\n', ' ').replace('\\t', ' ')\n",
        "    beg = string[i]\n",
        "    while string[i] == ' ':\n",
        "        i += 1\n",
        "    if beg == '(':\n",
        "        return read_fn(string, i)\n",
        "    elif beg == '[':\n",
        "        return read_compartment(string, i)\n",
        "    else:\n",
        "        return read_word_or_symbol(string, i)\n",
        "\n",
        "def read_fn(string: str, i: int):\n",
        "    start = i\n",
        "    depth = 0\n",
        "    while True:\n",
        "        if string[i] == '(':\n",
        "            depth += 1\n",
        "        elif string[i] == ')':\n",
        "            depth -= 1\n",
        "        i += 1\n",
        "        if depth == 0:\n",
        "            break\n",
        "    return ReadResult(string[start:i], Function), i + 1\n",
        "\n",
        "def read_compartment(string: str, i: int):\n",
        "    start = i\n",
        "    while string[i] != ']':\n",
        "        i += 1\n",
        "    # include the closing bracket\n",
        "    i += 1\n",
        "    return ReadResult(string[start:i], Compartment), i + 1\n",
        "\n",
        "def read_word_or_symbol(string: str, i: int):\n",
        "    start = i\n",
        "    while i < len(string) and string[i] != ' ' and string[i] != '[' and string[i] != ')' and string[i] != '(':\n",
        "        i += 1\n",
        "    return ReadResult(string[start:i], WordOrSymbol), i + 1\n",
        "\n",
        "def parse(read_result: ReadResult):\n",
        "    parser = {\n",
        "        Function: parse_fn,\n",
        "        Compartment: parse_compartment,\n",
        "        WordOrSymbol: parse_word_or_symbol\n",
        "    }\n",
        "    return parser[read_result.object_type](read_result.string_value)\n",
        "\n",
        "def parse_fn(string: str):\n",
        "    string = string[1:-1] # take `...` from `(...)`\n",
        "    terms = []\n",
        "    i = 0\n",
        "    while i < len(string):\n",
        "        if string[i] == ' ':\n",
        "            i += 1\n",
        "            continue\n",
        "        r, i = read(string, i)\n",
        "        terms += [parse(r)]\n",
        "    return Function(terms[0], terms[1:])\n",
        "\n",
        "def parse_compartment(string: str):\n",
        "    if string[0] != '[' or string[-1] != ']':\n",
        "        print(string, string[-1])\n",
        "        raise Exception('called parse_compartment with invalid string')\n",
        "    string = string[1:-1] # take `...` from `[...]`\n",
        "    return Compartment([s.strip() for s in string.split(',')])\n",
        "\n",
        "def parse_word_or_symbol(string: str):\n",
        "    return WordOrSymbol(string)\n",
        "\n",
        "def compile(parse_result, parameters, compartments):\n",
        "    if isinstance(parse_result, Function):\n",
        "        return compile_equation(parse_result, parameters, compartments)\n",
        "    if isinstance(parse_result, Compartment):\n",
        "        return compile_compartment(parse_result, compartments)\n",
        "    if isinstance(parse_result, WordOrSymbol):\n",
        "        return compile_word_or_symbol(parse_result)\n",
        "    return parse_result\n",
        "\n",
        "def compile_compartment(compartment: Compartment, compartments):\n",
        "    s = set(compartment.labels)\n",
        "    indices = [i for i, c in enumerate(compartments) if set(c).issuperset(s)]\n",
        "    # if len(indices) == 1:\n",
        "    #     return lambda state: state[indices[0]]\n",
        "    # else:\n",
        "    #     return lambda state: [state[i] for i in indices]\n",
        "    return lambda state: [state[i] for i in indices]\n",
        "\n",
        "def compile_word_or_symbol(word_or_symbol: WordOrSymbol,):\n",
        "    return word_or_symbol\n",
        "\n",
        "def evaluate_if_fn(x, parameters, compartments):\n",
        "    if isinstance(x, Function):\n",
        "        return evaluate_if_fn(compile_equation(x, parameters, compartments), parameters, compartments)\n",
        "    else:\n",
        "        return x\n",
        "\n",
        "def compile_equation(equation: Function, parameters, compartments):\n",
        "    if isinstance(equation.operator, WordOrSymbol):\n",
        "        fn = equation.operator.value\n",
        "        equation.operands = [evaluate_if_fn(x, parameters, compartments) for x in equation.operands]\n",
        "        # parameters are a special function and could have their own\n",
        "        # element in the grammar (such as the use of brackets) to denote them\n",
        "        # but for now they are denoted using `(parameter ...)` like other functions\n",
        "        if fn == 'parameter':\n",
        "            prepare_parameter(equation.operands, parameters, compartments)\n",
        "            parameters = get_parameters(equation.operands, parameters, compartments)\n",
        "            return lambda state: [parameter.evaluate() for parameter in parameters]\n",
        "        else:\n",
        "            if fn == '*':\n",
        "                if len(equation.operands) == 1:\n",
        "                    raise 1\n",
        "                compiled_operands = [compile(operand, parameters, compartments) for operand in equation.operands]\n",
        "                return lambda state: product([operand(state) for operand in compiled_operands])\n",
        "            elif fn == 'sumproduct':\n",
        "                compiled_operands = [compile(operand, parameters, compartments) for operand in equation.operands]\n",
        "                return lambda state: sumproduct([operand(state) for operand in compiled_operands])\n",
        "            elif fn == 'join':\n",
        "                join_using, join_seq = equation.operands[0], equation.operands[1]\n",
        "                if not isinstance(join_using, WordOrSymbol):\n",
        "                    raise Exception(\"Join first argument has to be a WordOrSymbol\")\n",
        "                if isinstance(join_seq, Compartment):\n",
        "                    return WordOrSymbol(join_using.value.join(join_seq.labels))\n",
        "                else:\n",
        "                    # todo maybe something makes sense to implement here\n",
        "                    raise Exception(\"Join second argument has to be a Compartment\")\n",
        "            elif fn == 'intersection':\n",
        "                c1, c2 = equation.operands[0], equation.operands[1]\n",
        "                if not isinstance(c1, Compartment):\n",
        "                    raise Exception(\"Join first argument has to be a Compartment\")\n",
        "                if not isinstance(c2, Compartment):\n",
        "                    raise Exception(\"Join second argument has to be a Compartment\")\n",
        "                return Compartment([x for x in c1.labels if x in c2.labels])\n",
        "            else:\n",
        "                raise Exception(f\"Unknown function `{fn}`\")\n",
        "    else:\n",
        "        raise Exception(f\"Expected operator of type WordOrSymbol, received {type(equation.operator)}\")\n",
        "\n",
        "def product(terms):\n",
        "    p = 1\n",
        "    for t in terms:\n",
        "        if isinstance(t, list):\n",
        "            p *= sum(t)\n",
        "        else:\n",
        "            p *= t\n",
        "    return p\n",
        "\n",
        "def sumproduct(values):\n",
        "    if type(values[0]) != list:\n",
        "        print(len(values), list(map(type, values)))\n",
        "        raise 1\n",
        "    expected_len = len(values[0])\n",
        "    for v in values:\n",
        "        if len(v) != expected_len:\n",
        "            raise Exception(f'could not broadcast matrices or vectors of sizes `{[len(v) for v in values]}` ({values})')\n",
        "    return sum([product([value[i] for value in values]) for i in range(len(values[0]))])\n",
        "\n",
        "def parse_compartments(line):\n",
        "    return [parse_compartment(c) for c in line.replace('[[', '[').replace(']]', ']').replace('\\n', '').split('], ')]\n",
        "\n",
        "class Parameter:\n",
        "    def __init__(self, operands, value) -> None:\n",
        "        if type(operands) != type([]):\n",
        "            raise 1\n",
        "        self.operands = operands\n",
        "        self.value = value\n",
        "\n",
        "    def evaluate(self):\n",
        "        if self.value is None:\n",
        "            raise Exception(f\"None valued parameter '{self.name}'\")\n",
        "        else:\n",
        "            return self.value\n",
        "\n",
        "class CompartmentValue:\n",
        "    def __init__(self, compartment: Compartment, value) -> None:\n",
        "        self.compartment = compartment\n",
        "        self.value = value\n",
        "\n",
        "    def evaluate(self):\n",
        "        if self.value is None:\n",
        "            raise Exception(f\"None valued compartment {self.compartment.labels}\")\n",
        "        else:\n",
        "            return self.value\n",
        "\n",
        "def prepare_parameter(operands, parameters, compartments):\n",
        "    for i, operand in enumerate(operands):\n",
        "        if isinstance(operand, Compartment):\n",
        "            is_full_compartment_specification = operand.labels in compartments\n",
        "            if not is_full_compartment_specification:\n",
        "                s = set(operand.labels)\n",
        "                subsets_of_partial_specialization = [Compartment(c) for c in compartments if set(c).issuperset(s)]\n",
        "                before, after = operands[:i], operands[i+1:]\n",
        "                for c in subsets_of_partial_specialization:\n",
        "                    prepare_parameter(before + [c] + after, parameters, compartments)\n",
        "                return\n",
        "    key = '(parameter'\n",
        "    for op in operands:\n",
        "        if isinstance(op, WordOrSymbol):\n",
        "            key += ' ' + op.value\n",
        "        if isinstance(op, Compartment):\n",
        "            key += ' ' + op.as_key()\n",
        "    key += ')'\n",
        "    if key not in parameters:\n",
        "        parameters[key] = Parameter(operands, None)\n",
        "\n",
        "def get_parameters(operands, parameters, compartments):\n",
        "    # check if any of our parameters are incomplete compartments (incomplete specifications)\n",
        "    # those refer to all the compartments who's labels are a superset of our compartment's labels\n",
        "    for i, operand in enumerate(operands):\n",
        "        if isinstance(operand, Compartment):\n",
        "            is_full_compartment_specification = operand.labels in compartments\n",
        "            if not is_full_compartment_specification:\n",
        "                s = set(operand.labels)\n",
        "                subsets_of_partial_specialization = [Compartment(c) for c in compartments if set(c).issuperset(s)]\n",
        "                before, after = operands[:i], operands[i+1:]\n",
        "                res = []\n",
        "                for c in subsets_of_partial_specialization:\n",
        "                    params = get_parameters(before + [c] + after, parameters, compartments)\n",
        "                    if isinstance(params, list):\n",
        "                        res.extend(params)\n",
        "                    else:\n",
        "                        res.extend([params])\n",
        "                return res\n",
        "    # note we early return in the for loop if any compartment was incomplete\n",
        "    # so at this point we are certain the parameters we have are complete\n",
        "    key = '(parameter'\n",
        "    for op in operands:\n",
        "        if isinstance(op, WordOrSymbol):\n",
        "            key += ' ' + op.value\n",
        "        if isinstance(op, Compartment):\n",
        "            key += ' ' + op.as_key()\n",
        "    key += ')'\n",
        "    return [parameters[key]]\n",
        "\n",
        "def evalDelta(flows, state):\n",
        "    res = 0\n",
        "    for flow in flows:\n",
        "        res += flow.compiled_equation(state)\n",
        "    return res\n",
        "\n",
        "def model_derivative(derivatives, state, t):\n",
        "    print(f'\\r{t}                                                         ', end='')\n",
        "    state = [x if x > 0 else 0 for x in state]\n",
        "    d = [derivatives[i](state) for i in range(len(state))]\n",
        "    return d\n",
        "\n",
        "def test_required_parameters(parameters):\n",
        "    return [name for name, parameter in parameters.items() if parameter.value is None]\n",
        "\n",
        "def readlines(fn):\n",
        "    f = open(fn, 'r')\n",
        "    l = f.readlines()\n",
        "    f.close()\n",
        "    return l\n",
        "\n",
        "def identify_required_parameters(folder, project_name, provided_parameters):\n",
        "    compartments = [parse_compartment(line[:-1]).labels for line in readlines(f'{folder}{project_name}.compartments.txt')]\n",
        "    number_of_lines_per_flow_in_file = 5\n",
        "    nl = number_of_lines_per_flow_in_file\n",
        "\n",
        "    equation_file_lines = list(readlines(f'{folder}{project_name}.equations.txt')) + ['\\n']\n",
        "    n_eq = int(len(equation_file_lines) / nl)\n",
        "    # nl = 5 -> [[0,1,2,3,4],[5,6,7,8,9],...]\n",
        "    lines_of_each_eq = [equation_file_lines[i * nl:(i + 1) * nl] for i in range(n_eq)]\n",
        "    flows = [Flow(lines_of_eq, provided_parameters, compartments) for lines_of_eq in lines_of_each_eq]\n",
        "    flows = [f for f in flows if not 'Dead' in f.source.labels]\n",
        "\n",
        "    return compartments, flows\n",
        "\n",
        "def derivative_for(flows):\n",
        "    return lambda state: evalDelta(flows[0], state) - evalDelta(flows[1], state)\n",
        "\n",
        "def read_initial_conditions(folder, project_name, list_of_list_of_labels):\n",
        "    compartments = [Compartment(c) for c in list_of_list_of_labels]\n",
        "    initial_conditions = { c.as_key() : CompartmentValue(c, None) for c in compartments }\n",
        "    for line in readlines(f'{folder}{project_name}.scenario-compartments.txt'):\n",
        "        k, v = line.split('=')\n",
        "        k = parse_compartment(k.strip()).as_key()\n",
        "        if k not in initial_conditions:\n",
        "            raise Exception(f\"Provided population value in {folder}{project_name}.scenario-compartments.txt missing in {folder}{project_name}.compartments.txt\")\n",
        "        initial_conditions[k] = CompartmentValue(parse_compartment(k), float(v))\n",
        "    return initial_conditions\n",
        "\n",
        "def run_sim(folder, project_name, provided_parameters, compartments, flows, solver, t_span, tolerance=1e-4):\n",
        "    compartments = [parse_compartment(line[:-1]).labels for line in readlines(f'{folder}{project_name}.compartments.txt')]\n",
        "    number_of_lines_per_flow_in_file = 5\n",
        "    nl = number_of_lines_per_flow_in_file\n",
        "\n",
        "    equation_file_lines = list(readlines(f'{folder}{project_name}.equations.txt')) + ['\\n']\n",
        "    n_eq = int(len(equation_file_lines) / nl)\n",
        "    # nl = 5 -> [[0,1,2,3,4],[5,6,7,8,9],...]\n",
        "    lines_of_each_eq = [equation_file_lines[i * nl:(i + 1) * nl] for i in range(n_eq)]\n",
        "    flows = [Flow(lines_of_eq, provided_parameters, compartments) for lines_of_eq in lines_of_each_eq]\n",
        "\n",
        "    # each compartment has an in and an out list\n",
        "    flowsbycompartment = [[[], []] for _ in compartments]\n",
        "    for flow in flows:\n",
        "        source = compartments.index(flow.source.labels)\n",
        "        sink = compartments.index(flow.sink.labels)\n",
        "        _in,_out = 0,1\n",
        "        flowsbycompartment[source][_out] += [flow]\n",
        "        flowsbycompartment[sink  ][_in ] += [flow]\n",
        "\n",
        "    missing_parameters = test_required_parameters(provided_parameters)\n",
        "\n",
        "    if len(missing_parameters) > 0:\n",
        "        print(\"Missing Parameters:\")\n",
        "        for parameter in missing_parameters:\n",
        "            print(parameter)\n",
        "        raise Exception(\"Missing Parameters\")\n",
        "    else:\n",
        "        derivatives = [derivative_for(flowsbycompartment[i]) for i in range(len(compartments))]\n",
        "        initial_conditions = { Compartment(c).as_key() : CompartmentValue(Compartment(c), None) for c in compartments }\n",
        "        for line in readlines(f'{folder}{project_name}.scenario-compartments.txt'):\n",
        "            k, v = line.split('=')\n",
        "            k = k.strip()\n",
        "            initial_conditions[k] = CompartmentValue(parse_compartment(k.strip()), float(v))\n",
        "\n",
        "        md = lambda state, t: model_derivative(derivatives, state, t)\n",
        "        solution = solver(md, [initial_conditions[Compartment(c).as_key()].value for c in compartments], t_span, tolerance)\n",
        "        print()\n",
        "        return solution\n",
        "\n",
        "def base_solver(model_derivative_f, initial_conditions, t_span, tolerance=1e-4):\n",
        "    size = len(initial_conditions)\n",
        "    state = initial_conditions\n",
        "    res = [state]\n",
        "    previous_t = t_span[0]\n",
        "    for t in t_span[1:]:\n",
        "        dt = t - previous_t\n",
        "        model_derivative = model_derivative_f(state, previous_t)\n",
        "        # sign something is wrong, steps too large, dangerous\n",
        "        if (sum(np.abs(model_derivative)) * dt / sum(state)) > tolerance:\n",
        "            # 10 steps 10 times smaller\n",
        "            smaller_steps_sln = base_solver(model_derivative_f, state, linspace(previous_t, t, 10))\n",
        "            # keep only the last\n",
        "            state = smaller_steps_sln[-1]\n",
        "        else:\n",
        "            state = [state[i] + model_derivative[i] * dt for i in range(size)]\n",
        "\n",
        "        state = [x if x > 0 else 0 for x in state]\n",
        "        res += [state]\n",
        "        previous_t = t\n",
        "    return np.array(res)\n",
        "\n",
        "# produces an array of length `n_steps + 1`\n",
        "# interval [start, end] with `n_steps - 1` evenly spaced points in between\n",
        "def linspace(start, end, n_steps: int):\n",
        "    if n_steps < 1:\n",
        "        raise Exception(\"n_steps has to be a positive integer greater or equal to 1\")\n",
        "    d = (end - start) / n_steps\n",
        "    return [start + d * i for i in range(n_steps)] + [end]"
      ],
      "metadata": {
        "id": "cslNqezNXtVy"
      },
      "execution_count": null,
      "outputs": []
    },
    {
      "cell_type": "code",
      "source": [
        "project_name = 'Tuite-Covid-Model-Stratified'\n",
        "folder = f''"
      ],
      "metadata": {
        "id": "7bhUzgXxWc5X"
      },
      "execution_count": null,
      "outputs": []
    },
    {
      "cell_type": "code",
      "source": [
        "parameters = {k.strip(): Parameter(parse_fn(k).operands, float(v)) for k, v in [s.split('=') for s in readlines(f'{folder}{project_name}.parameters.txt')]}\n",
        "\n",
        "compartments, flows = identify_required_parameters(folder, project_name, parameters)\n",
        "missing = [k for k, v in parameters.items() if v.value is None]\n",
        "\n",
        "if len(missing) == 0:\n",
        "    # solver = odeint\n",
        "    solver = base_solver\n",
        "    t_span = linspace(0, 1000, 1000) # + linspace(1, 10, 90) + linspace(10, 1000, 990)\n",
        "    solution = run_sim(folder, project_name, parameters, compartments, flows, solver, t_span, tolerance=1e-1)\n",
        "else:\n",
        "    print(f'missing {len(missing)} parameters')\n",
        "    fn = f'{folder}{project_name}.missing-parameters.txt'\n",
        "    print(f'writing missing parameters to `{fn}`')\n",
        "\n",
        "    with open(fn, 'w') as f:\n",
        "        for p in missing:\n",
        "            f.write(p + ' = 0\\n')"
      ],
      "metadata": {
        "colab": {
          "base_uri": "https://localhost:8080/"
        },
        "id": "k1BHGUWr6B2Z",
        "outputId": "bf99469d-7f37-4901-cbd8-207e343fd3da"
      },
      "execution_count": null,
      "outputs": [
        {
          "output_type": "stream",
          "name": "stdout",
          "text": [
            "999.0                                                         \n"
          ]
        }
      ]
    },
    {
      "cell_type": "code",
      "source": [
        "compartments[0]"
      ],
      "metadata": {
        "id": "06n760GiITiK",
        "colab": {
          "base_uri": "https://localhost:8080/"
        },
        "outputId": "60d20e87-bb48-4d0d-e1f1-e8b98b834cf1"
      },
      "execution_count": null,
      "outputs": [
        {
          "output_type": "execute_result",
          "data": {
            "text/plain": [
              "['0-4',\n",
              " 'Aging',\n",
              " 'None',\n",
              " 'S',\n",
              " 'Tuite-Covid-Model',\n",
              " 'Tuite-Covid-Model-Stratified',\n",
              " 'comorbidity',\n",
              " 'link']"
            ]
          },
          "metadata": {},
          "execution_count": 5
        }
      ]
    },
    {
      "cell_type": "code",
      "source": [
        "def plot_by_labels(list_of_list_of_labels, common_specs = []):\n",
        "    f, ax = plt.subplots(1)\n",
        "    for list_of_labels in list_of_list_of_labels:\n",
        "        curves = []\n",
        "        sub = set(list_of_labels + common_specs)\n",
        "        for i, c in enumerate(compartments):\n",
        "            if set(c).issuperset(sub):\n",
        "                curves += [solution[:,i]]\n",
        "        res = np.sum(np.array(curves), axis = 0)\n",
        "        l = ax.plot(t_span, res, label=list_of_labels)\n",
        "    ax.set_ylim(ymin=0)\n",
        "    plt.legend()\n",
        "    plt.title(f'plot for {common_specs}')\n",
        "    plt.show()"
      ],
      "metadata": {
        "id": "Pd1JVRbsSbyD"
      },
      "execution_count": null,
      "outputs": []
    },
    {
      "cell_type": "code",
      "source": [
        "def sum_labels(list_of_list_of_labels, common_specs = []):\n",
        "    curve = None\n",
        "    for list_of_labels in list_of_list_of_labels:\n",
        "        sub = set(list_of_labels + common_specs)\n",
        "        for i, c in enumerate(compartments):\n",
        "            if set(c).issuperset(sub):\n",
        "                if curve is None:\n",
        "                    curve = solution[:,i].copy()\n",
        "                else:\n",
        "                    curve += solution[:,i]\n",
        "    return curve"
      ],
      "metadata": {
        "id": "CSd_xsJ_4R0u"
      },
      "execution_count": null,
      "outputs": []
    },
    {
      "cell_type": "code",
      "source": [
        "# def identify_problematic_equations(folder, project_name, provided_parameters, compartments, flows, solver):\n",
        "#     compartments = [parse_compartment(line[:-1]).labels for line in readlines(f'{folder}{project_name}.compartments.txt')]\n",
        "#     number_of_lines_per_flow_in_file = 5\n",
        "#     nl = number_of_lines_per_flow_in_file\n",
        "\n",
        "#     equation_file_lines = list(readlines(f'{folder}{project_name}.equations.txt')) + ['\\n']\n",
        "#     n_eq = int(len(equation_file_lines) / nl)\n",
        "#     # nl = 5 -> [[0,1,2,3,4],[5,6,7,8,9],...]\n",
        "#     lines_of_each_eq = [equation_file_lines[i * nl:(i + 1) * nl] for i in range(n_eq)]\n",
        "#     flows = [Flow(lines_of_eq, provided_parameters, compartments) for lines_of_eq in lines_of_each_eq]\n",
        "\n",
        "#     missing_parameters = test_required_parameters(provided_parameters)\n",
        "\n",
        "#     if len(missing_parameters) > 0:\n",
        "#         print(\"Missing Parameters:\")\n",
        "#         for parameter in missing_parameters:\n",
        "#             print(parameter)\n",
        "#         raise Exception(\"Missing Parameters\")\n",
        "#     else:\n",
        "#         initial_conditions = { Compartment(c).as_key() : CompartmentValue(Compartment(c), None) for c in compartments }\n",
        "#         for line in readlines(f'{folder}{project_name}.scenario-compartments.txt'):\n",
        "#             k, v = line.split('=')\n",
        "#             k = k.strip()\n",
        "#             initial_conditions[k] = CompartmentValue(parse_compartment(k.strip()), float(v))\n",
        "\n",
        "#         state = [initial_conditions[Compartment(c).as_key()].value for c in compartments]\n",
        "#         for flow in flows:\n",
        "#             val = flow.compiled_equation(state)\n",
        "#             source = compartments.index(flow.source.labels)\n",
        "#             if state[source] - val / 100 < 0:\n",
        "#                 raise Exception(f\"Source has value of {state[source]} and derivative is -{val}\")\n",
        "\n",
        "# parameters = {k.strip(): Parameter(parse_fn(k).operands, float(v)) for k, v in [s.split('=') for s in readlines(f'{folder}{project_name}.parameters.txt')]}\n",
        "# compartments, flows = identify_required_parameters(folder, project_name, parameters)\n",
        "# missing = [k for k, v in parameters.items() if v.value is None]\n",
        "# identify_problematic_equations(folder, project_name, parameters, compartments, flows, solver)"
      ],
      "metadata": {
        "id": "uDHM9LYsXcXz"
      },
      "execution_count": null,
      "outputs": []
    },
    {
      "cell_type": "code",
      "source": [
        "# for i, compartment in enumerate(compartments):\n",
        "#     climbs_too_fast = solution[0][i] / (solution[1][i] + 1e-5) > 1.1\n",
        "#     falls_too_fast = (solution[0][i] != 0) and ((solution[0][i] / (solution[1][i] + 1e-5)) < 0.1)\n",
        "#     if climbs_too_fast or falls_too_fast:\n",
        "#         print(i, compartment)\n",
        "#         plot_by_labels([compartment])"
      ],
      "metadata": {
        "id": "nYnR0omREs3T"
      },
      "execution_count": null,
      "outputs": []
    },
    {
      "cell_type": "code",
      "source": [
        "len(t_span) == len(solution)"
      ],
      "metadata": {
        "id": "d8DrpnrLfpVp",
        "colab": {
          "base_uri": "https://localhost:8080/"
        },
        "outputId": "d242579e-ce39-4c07-80bc-a31a36eafb64"
      },
      "execution_count": null,
      "outputs": [
        {
          "output_type": "execute_result",
          "data": {
            "text/plain": [
              "True"
            ]
          },
          "metadata": {},
          "execution_count": 10
        }
      ]
    },
    {
      "cell_type": "code",
      "source": [
        "plot_by_labels([['S'], ['E'], ['I']])"
      ],
      "metadata": {
        "id": "esBqjWZdz02R",
        "colab": {
          "base_uri": "https://localhost:8080/",
          "height": 452
        },
        "outputId": "3aab154d-69b8-4d15-de25-9a137ae1e6a0"
      },
      "execution_count": null,
      "outputs": [
        {
          "output_type": "display_data",
          "data": {
            "text/plain": [
              "<Figure size 640x480 with 1 Axes>"
            ],
            "image/png": "[encoded data removed]"
          },
          "metadata": {}
        }
      ]
    },
    {
      "cell_type": "code",
      "source": [
        "plot_by_labels([['E'], ['I']])\n"
      ],
      "metadata": {
        "id": "DmBXJNnd2UJJ",
        "colab": {
          "base_uri": "https://localhost:8080/",
          "height": 452
        },
        "outputId": "7b818660-31a6-40d3-c727-cf01bcfb7b9f"
      },
      "execution_count": null,
      "outputs": [
        {
          "output_type": "display_data",
          "data": {
            "text/plain": [
              "<Figure size 640x480 with 1 Axes>"
            ],
            "image/png": "[encoded data removed]"
          },
          "metadata": {}
        }
      ]
    },
    {
      "cell_type": "code",
      "source": [
        "plot_by_labels([['I']])"
      ],
      "metadata": {
        "id": "_lktZdzexNb8",
        "colab": {
          "base_uri": "https://localhost:8080/",
          "height": 452
        },
        "outputId": "003c36ab-b780-4bd4-a889-b479e16a41c8"
      },
      "execution_count": null,
      "outputs": [
        {
          "output_type": "display_data",
          "data": {
            "text/plain": [
              "<Figure size 640x480 with 1 Axes>"
            ],
            "image/png": "[encoded data removed]"
          },
          "metadata": {}
        }
      ]
    }
  ]
}